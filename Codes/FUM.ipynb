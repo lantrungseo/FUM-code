{
 "cells": [
  {
   "cell_type": "code",
   "execution_count": 1,
   "metadata": {},
   "outputs": [],
   "source": [
    "%load_ext autoreload\n",
    "%autoreload 2"
   ]
  },
  {
   "cell_type": "code",
   "execution_count": 3,
   "metadata": {},
   "outputs": [],
   "source": [
    "# import os\n",
    "# os.environ[\"CUDA_VISIBLE_DEVICES\"] = \"0,1\"\n",
    "\n",
    "# import tensorflow as tf\n",
    "# import keras.backend as KTF\n",
    " \n",
    "# config = tf.compat.v1.ConfigProto()\n",
    "# config.gpu_options.allow_growth=True  \n",
    "# session = tf.compat.v1.Session(config=config)\n",
    " \n",
    "# KTF.set_session(session)"
   ]
  },
  {
   "cell_type": "code",
   "execution_count": 2,
   "metadata": {},
   "outputs": [],
   "source": [
    "from Hypers import *\n",
    "from Utils import *\n",
    "from Preprocessing import *\n",
    "from Generator import *\n",
    "from Models import *\n"
   ]
  },
  {
   "cell_type": "code",
   "execution_count": 3,
   "metadata": {},
   "outputs": [],
   "source": [
    "from pathlib import Path\n",
    "import os\n",
    "\n",
    "project_path = Path(os.getcwd()).parent.absolute()\n",
    "data_root_path = os.path.join(project_path, '_data_')\n",
    "embedding_path = os.path.join(project_path, '_embeddings_')"
   ]
  },
  {
   "cell_type": "code",
   "execution_count": 4,
   "metadata": {},
   "outputs": [
    {
     "name": "stderr",
     "output_type": "stream",
     "text": [
      "[nltk_data] Downloading package punkt to\n",
      "[nltk_data]     /Users/lantrungseo/nltk_data...\n",
      "[nltk_data]   Package punkt is already up-to-date!\n"
     ]
    },
    {
     "data": {
      "text/plain": [
       "True"
      ]
     },
     "execution_count": 4,
     "metadata": {},
     "output_type": "execute_result"
    }
   ],
   "source": [
    "# download punkt data for nltk\n",
    "import nltk\n",
    "# nltk_data_dir_path = os.path.join(project_path, '_nltk_data_')\n",
    "# os.environ['NLTK_DATA'] = nltk_data_dir_path\n",
    "nltk.download('punkt')#, download_dir=nltk_data_dir_path)"
   ]
  },
  {
   "cell_type": "code",
   "execution_count": 5,
   "metadata": {},
   "outputs": [
    {
     "name": "stdout",
     "output_type": "stream",
     "text": [
      "/Users/lantrungseo/Documents/app-dev/lantrungseo/FUM-code/_data_\n",
      "MINDlarge_train\n",
      "MINDlarge_test\n",
      "MINDlarge_dev\n",
      "MINDsmall_train\n",
      "MINDsmall_dev\n"
     ]
    }
   ],
   "source": [
    "print(data_root_path)\n",
    "news,news_index,category_dict,subcategory_dict,word_dict,content_dict,entity_dict = read_news(\n",
    "  data_root_path, \n",
    ")\n",
    "\n",
    "\n",
    "news_title,news_vert,news_subvert,news_entity,news_content=get_doc_input(news,news_index,category_dict,subcategory_dict,word_dict,content_dict,entity_dict)\n"
   ]
  },
  {
   "cell_type": "code",
   "execution_count": 6,
   "metadata": {},
   "outputs": [],
   "source": [
    "title_word_embedding_matrix = load_matrix(embedding_path,word_dict)\n",
    "content_word_embedding_matrix = load_matrix(embedding_path,content_dict)"
   ]
  },
  {
   "cell_type": "code",
   "execution_count": 9,
   "metadata": {},
   "outputs": [
    {
     "name": "stdout",
     "output_type": "stream",
     "text": [
      "{'N88753': ['lifestyle', 'lifestyleroyals', ['the', 'brands', 'queen', 'elizabeth', ',', 'prince', 'charles', ',', 'and', 'prince', 'philip', 'swear', 'by'], ['Q80976', 'Q43274', 'Q9682'], ['shop', 'the', 'notebooks,', 'jackets,', 'and', 'more', 'that', 'the', 'royals', \"can't\", 'live', 'without.']], 'N45436': ['news', 'newsscienceandtechnology', ['walmart', 'slashes', 'prices', 'on', 'last-generation', 'ipads'], ['Q2796', 'Q483551'], [\"apple's\", 'new', 'ipad', 'releases', 'bring', 'big', 'deals', 'on', 'last', \"year's\", 'models.']], 'N23144': ['health', 'weightloss', ['50', 'worst', 'habits', 'for', 'belly', 'fat'], ['Q193583'], ['these', 'seemingly', 'harmless', 'habits', 'are', 'holding', 'you', 'back', 'and', 'keeping', 'you', 'from', 'shedding', 'that', 'unwanted', 'belly', 'fat', 'for', 'good.']], 'N86255': ['health', 'medical', ['dispose', 'of', 'unwanted', 'prescription', 'drugs', 'during', 'the', 'dea', \"'s\", 'take', 'back', 'day'], ['Q622899'], []]}\n",
      "{'N88753': 1, 'N45436': 2, 'N23144': 3, 'N86255': 4}\n",
      "{'lifestyle': 1, 'news': 2, 'health': 3, 'sports': 4}\n",
      "{'lifestyleroyals': 1, 'newsscienceandtechnology': 2, 'weightloss': 3, 'medical': 4}\n",
      "58218\n",
      "54184\n",
      "(130380, 30)\n",
      "(130380, 50)\n",
      "(58219, 300)\n",
      "(54185, 300)\n"
     ]
    }
   ],
   "source": [
    "def print_partial(d):\n",
    "  print(dict(list(d.items())[0:4]))\n",
    "\n",
    "print_partial(news)\n",
    "print_partial(news_index)\n",
    "print_partial(category_dict)\n",
    "print_partial(subcategory_dict)\n",
    "\n",
    "print(len(word_dict))\n",
    "print(len(content_dict))\n",
    "\n",
    "print(news_title.shape)\n",
    "print(news_content.shape)\n",
    "\n",
    "print(title_word_embedding_matrix.shape)\n",
    "print(content_word_embedding_matrix.shape)\n",
    "\n"
   ]
  },
  {
   "cell_type": "code",
   "execution_count": 10,
   "metadata": {},
   "outputs": [],
   "source": [
    "# train_session = read_train_clickhistory(news_index,data_root_path,'MINDsmall_train/behaviors.tsv')\n",
    "# dev_session = read_train_clickhistory(news_index,data_root_path,'MINDsmall_dev/behaviors.tsv')\n",
    "\n",
    "# train_session = read_train_clickhistory(news_index,data_root_path,'MINDlarge_train/behaviors.tsv')\n",
    "# dev_session = read_train_clickhistory(news_index,data_root_path,'MINDlarge_dev/behaviors.tsv')\n",
    "\n",
    "\n",
    "# train_session = [[list_of_clicks_before_this_session], [list_of_clicks], [list_of_unclicks]]\n",
    "# print(dev_session[0:5])"
   ]
  },
  {
   "cell_type": "code",
   "execution_count": 11,
   "metadata": {},
   "outputs": [],
   "source": [
    "# train_user = parse_user(news_index,train_session)\n",
    "# dev_user = parse_user(news_index,dev_session)\n",
    "\n",
    "# # train_user = { 'click': (impression_array_index, clicked_news_index_before_the_impression) }\n",
    "# print(train_user['click'][0:5])\n"
   ]
  },
  {
   "cell_type": "code",
   "execution_count": 12,
   "metadata": {},
   "outputs": [],
   "source": [
    "# train_sess, train_user_id, train_label = get_train_input(news_index,train_session)\n",
    "# dev_sess, dev_user_id, dev_label = get_train_input(news_index,dev_session)\n",
    "\n",
    "# print(train_sess[1], train_sess[2])\n",
    "# print(train_sess.shape)\n",
    "# print(train_label.shape)\n",
    "# print(train_label[1], train_label[2])\n",
    "# print(train_user_id[0:2])\n",
    "# # train_sess = (sessionIndex: (clicked, ...4*not-clicked))\n",
    "# # train_user_id = (sessionIndex for each clicked news)\n",
    "# # train_label = (sessionIndex: (1, 0, 0, 0, 0)) - 1 clicked, 4 not-clicked\n"
   ]
  },
  {
   "cell_type": "code",
   "execution_count": 8,
   "metadata": {},
   "outputs": [],
   "source": [
    "# Save preprocessing data as csv\n",
    "import pandas as pd\n",
    "import json\n",
    "\n",
    "def get_paths(folder):\n",
    "  train_session_path = os.path.join(project_path, '_data_', folder, 'train_session.csv')\n",
    "  train_user_path = os.path.join(project_path, '_data_', folder, 'train_user_id.csv')\n",
    "  train_label_path = os.path.join(project_path, '_data_', folder,  'train_label.csv')\n",
    "  train_click_path = os.path.join(project_path, '_data_',folder,  'train_clicks.csv')\n",
    "  train_meta_path = os.path.join(project_path, '_data_', folder, 'train-meta.json')\n",
    "\n",
    "  dev_session_path = os.path.join(project_path, '_data_', folder, 'dev_session.csv')\n",
    "  dev_user_path = os.path.join(project_path, '_data_', folder, 'dev_user_id.csv')\n",
    "  dev_label_path = os.path.join(project_path, '_data_', folder, 'dev_label.csv')\n",
    "  dev_click_path = os.path.join(project_path, '_data_', folder, 'dev_clicks.csv')\n",
    "  dev_meta_path = os.path.join(project_path, '_data_', folder, 'dev-meta.json')\n",
    "  return train_session_path, train_user_path, train_label_path, train_click_path, train_meta_path, dev_session_path, dev_user_path, dev_label_path, dev_click_path, dev_meta_path\n",
    "\n",
    "def save_processed_data_as_csv(folder):\n",
    "  train_session_path, train_user_path, train_label_path, train_click_path, train_meta_path, dev_session_path, dev_user_path, dev_label_path, dev_click_path, dev_meta_path = get_paths(folder)\n",
    "\n",
    "  train_sess_df = pd.DataFrame(train_sess)\n",
    "  train_sess_df.to_csv(train_session_path, index=False,header=False)\n",
    "\n",
    "  train_user_id_df = pd.DataFrame(train_user_id)\n",
    "  train_user_id_df.to_csv(train_user_path, index=False,header=False)\n",
    "\n",
    "  train_label_df = pd.DataFrame(train_label)\n",
    "  train_label_df.to_csv(train_label_path, index=False,header=False)\n",
    "\n",
    "  dev_sess_df = pd.DataFrame(dev_sess)\n",
    "  dev_sess_df.to_csv(dev_session_path, index=False,header=False)\n",
    "\n",
    "  dev_user_id_df = pd.DataFrame(dev_user_id)\n",
    "  dev_user_id_df.to_csv(dev_user_path, index=False,header=False)\n",
    "\n",
    "  dev_label_df = pd.DataFrame(dev_label)\n",
    "  dev_label_df.to_csv(dev_label_path, index=False,header=False)\n",
    "\n",
    "  train_click_df = pd.DataFrame(train_user['click'][train_user_id])\n",
    "  train_click_df.to_csv(train_click_path, index=False,header=False)\n",
    "\n",
    "  dev_click_df = pd.DataFrame(dev_user['click'][dev_user_id])\n",
    "  dev_click_df.to_csv(dev_click_path, index=False,header=False)\n",
    "\n",
    "\n",
    "  with open(train_meta_path, 'w') as f:\n",
    "    json.dump({ \"impressionNum\": train_label.shape[0] }, f)\n",
    "\n",
    "  with open(dev_meta_path, 'w') as f:\n",
    "    json.dump({ \"impressionNum\": dev_label.shape[0] }, f)\n",
    "\n",
    "  # return train_session_path, train_user_path, train_label_path, train_click_path, train_meta_path, dev_session_path, dev_user_path, dev_label_path, dev_click_path, dev_meta_path\n",
    "train_session_path, train_user_path, train_label_path, train_click_path, train_meta_path, dev_session_path, dev_user_path, dev_label_path, dev_click_path, dev_meta_path = get_paths('_small-processed_')\n",
    "# save_processed_data_as_csv('_small-processed_')\n",
    "# save_processed_data_as_csv('_processed_')\n"
   ]
  },
  {
   "cell_type": "code",
   "execution_count": 9,
   "metadata": {},
   "outputs": [],
   "source": [
    "from Generator import NewsFetcher\n",
    "news_fetcher = NewsFetcher(news_title,news_content,news_vert,news_subvert,news_entity)"
   ]
  },
  {
   "cell_type": "code",
   "execution_count": null,
   "metadata": {},
   "outputs": [],
   "source": [
    "# # test some news fetcher\n",
    "# res1 = news_fetcher.fetch(train_sess[0:3])\n",
    "# print(res1.shape)"
   ]
  },
  {
   "cell_type": "code",
   "execution_count": null,
   "metadata": {},
   "outputs": [],
   "source": []
  },
  {
   "cell_type": "code",
   "execution_count": 10,
   "metadata": {},
   "outputs": [],
   "source": [
    "train_generator = get_hir_train_generator(news_fetcher,train_click_path,train_session_path,train_label_path,64, train_meta_path)\n",
    "val_generator = get_hir_train_generator(news_fetcher,dev_click_path,dev_session_path,dev_label_path,32, dev_meta_path)\n",
    "news_generator = get_hir_news_generator(news_fetcher,32)"
   ]
  },
  {
   "cell_type": "code",
   "execution_count": 11,
   "metadata": {},
   "outputs": [
    {
     "name": "stdout",
     "output_type": "stream",
     "text": [
      "3693\n",
      "3481\n",
      "(32, 5, 87) (32, 30, 87) (32, 5)\n"
     ]
    }
   ],
   "source": [
    "print(len(train_generator))\n",
    "print(len(val_generator))\n",
    "# print(train_generator.label_reader.loc[100:120].compute().values)\n",
    "\n",
    "res = val_generator[1000]\n",
    "\n",
    "print(res[0][0].shape, res[0][1].shape, res[1].shape)\n",
    "\n",
    "# train_generator[i] return i-th batch with format ((news_info, user_info), [labels])\n",
    "\n",
    "# news_info.shape = (batch_size, train_sess.shape[1]=npratio+1, 87) -> represent the current clicked news and 4 not-clicked news\n",
    "# user_info.shape = (batch_size, 50, 87) -> represent the clicked news before the current clicked news\n",
    "# labels.shape = (batch_size, 5) -> 1 for clicked news, 0 for not-clicked news matched with news_info -> (1, 0, 0, 0, 0)\n",
    "\n",
    "# test code\n",
    "# gen_news_data, gen_labels = train_generator[0]\n",
    "# gen_news_info, gen_user_info = gen_news_data\n",
    "\n",
    "# print(gen_news_info.shape)\n",
    "# print(gen_user_info.shape)\n",
    "# print(gen_labels[0].shape)"
   ]
  },
  {
   "cell_type": "code",
   "execution_count": 12,
   "metadata": {
    "scrolled": true
   },
   "outputs": [
    {
     "name": "stderr",
     "output_type": "stream",
     "text": [
      "2023-12-27 23:54:11.171887: I metal_plugin/src/device/metal_device.cc:1154] Metal device set to: Apple M1\n",
      "2023-12-27 23:54:11.171946: I metal_plugin/src/device/metal_device.cc:296] systemMemory: 16.00 GB\n",
      "2023-12-27 23:54:11.171973: I metal_plugin/src/device/metal_device.cc:313] maxCacheSize: 5.33 GB\n",
      "2023-12-27 23:54:11.172191: I tensorflow/core/common_runtime/pluggable_device/pluggable_device_factory.cc:306] Could not identify NUMA node of platform GPU ID 0, defaulting to 0. Your kernel may not have been built with NUMA support.\n",
      "2023-12-27 23:54:11.172539: I tensorflow/core/common_runtime/pluggable_device/pluggable_device_factory.cc:272] Created TensorFlow device (/job:localhost/replica:0/task:0/device:GPU:0 with 0 MB memory) -> physical PluggableDevice (device: 0, name: METAL, pci bus id: <undefined>)\n"
     ]
    },
    {
     "name": "stdout",
     "output_type": "stream",
     "text": [
      "model\n",
      "Model: \"model_13\"\n",
      "__________________________________________________________________________________________________\n",
      " Layer (type)                Output Shape                 Param #   Connected to                  \n",
      "==================================================================================================\n",
      " input_14 (InputLayer)       [(None, 30, 87)]             0         []                            \n",
      "                                                                                                  \n",
      " input_15 (InputLayer)       [(None, 5, 87)]              0         []                            \n",
      "                                                                                                  \n",
      " time_distributed_1 (TimeDi  (None, 30, 400)              4365399   ['input_14[0][0]']            \n",
      " stributed)                                               1                                       \n",
      "                                                                                                  \n",
      " time_distributed_2 (TimeDi  (None, 5, 400)               4365399   ['input_15[0][0]']            \n",
      " stributed)                                               1                                       \n",
      "                                                                                                  \n",
      " model_8 (Functional)        (None, 370)                  708771    ['time_distributed_1[0][0]']  \n",
      "                                                                                                  \n",
      " model_12 (Functional)       (None, 30)                   1769519   ['input_14[0][0]']            \n",
      "                                                          2                                       \n",
      "                                                                                                  \n",
      " dropout_19 (Dropout)        (None, 5, 400)               0         ['time_distributed_2[0][0]']  \n",
      "                                                                                                  \n",
      " concatenate_3 (Concatenate  (None, 400)                  0         ['model_8[0][0]',             \n",
      " )                                                                   'model_12[0][0]']            \n",
      "                                                                                                  \n",
      " dot_6 (Dot)                 (None, 5)                    0         ['dropout_19[0][0]',          \n",
      "                                                                     'concatenate_3[0][0]']       \n",
      "                                                                                                  \n",
      " recommend (Activation)      (None, 5)                    0         ['dot_6[0][0]']               \n",
      "                                                                                                  \n",
      "==================================================================================================\n",
      "Total params: 62057954 (236.73 MB)\n",
      "Trainable params: 62057954 (236.73 MB)\n",
      "Non-trainable params: 0 (0.00 Byte)\n",
      "__________________________________________________________________________________________________\n",
      "news_encoder\n",
      "Model: \"model_6\"\n",
      "__________________________________________________________________________________________________\n",
      " Layer (type)                Output Shape                 Param #   Connected to                  \n",
      "==================================================================================================\n",
      " input_1 (InputLayer)        [(None, 87)]                 0         []                            \n",
      "                                                                                                  \n",
      " lambda_1 (Lambda)           (None, 1)                    0         ['input_1[0][0]']             \n",
      "                                                                                                  \n",
      " lambda_2 (Lambda)           (None, 1)                    0         ['input_1[0][0]']             \n",
      "                                                                                                  \n",
      " embedding_3 (Embedding)     (None, 1, 128)               2432      ['lambda_1[0][0]']            \n",
      "                                                                                                  \n",
      " embedding_4 (Embedding)     (None, 1, 128)               37632     ['lambda_2[0][0]']            \n",
      "                                                                                                  \n",
      " reshape (Reshape)           (None, 128)                  0         ['embedding_3[0][0]']         \n",
      "                                                                                                  \n",
      " reshape_1 (Reshape)         (None, 128)                  0         ['embedding_4[0][0]']         \n",
      "                                                                                                  \n",
      " lambda (Lambda)             (None, 30)                   0         ['input_1[0][0]']             \n",
      "                                                                                                  \n",
      " lambda_3 (Lambda)           (None, 50)                   0         ['input_1[0][0]']             \n",
      "                                                                                                  \n",
      " dense_6 (Dense)             (None, 128)                  16512     ['reshape[0][0]']             \n",
      "                                                                                                  \n",
      " dense_7 (Dense)             (None, 128)                  16512     ['reshape_1[0][0]']           \n",
      "                                                                                                  \n",
      " lambda_4 (Lambda)           (None, 5)                    0         ['input_1[0][0]']             \n",
      "                                                                                                  \n",
      " model_1 (Functional)        (None, 400)                  1790610   ['lambda[0][0]']              \n",
      "                                                          1                                       \n",
      "                                                                                                  \n",
      " model_3 (Functional)        (None, 400)                  1669590   ['lambda_3[0][0]']            \n",
      "                                                          1                                       \n",
      "                                                                                                  \n",
      " dropout_9 (Dropout)         (None, 128)                  0         ['dense_6[0][0]']             \n",
      "                                                                                                  \n",
      " dropout_10 (Dropout)        (None, 128)                  0         ['dense_7[0][0]']             \n",
      "                                                                                                  \n",
      " model_5 (Functional)        (None, 200)                  8476101   ['lambda_4[0][0]']            \n",
      "                                                                                                  \n",
      " concatenate (Concatenate)   (None, 1256)                 0         ['model_1[0][0]',             \n",
      "                                                                     'model_3[0][0]',             \n",
      "                                                                     'dropout_9[0][0]',           \n",
      "                                                                     'dropout_10[0][0]',          \n",
      "                                                                     'model_5[0][0]']             \n",
      "                                                                                                  \n",
      " dense_8 (Dense)             (None, 400)                  502800    ['concatenate[0][0]']         \n",
      "                                                                                                  \n",
      "==================================================================================================\n",
      "Total params: 43653991 (166.53 MB)\n",
      "Trainable params: 43653991 (166.53 MB)\n",
      "Non-trainable params: 0 (0.00 Byte)\n",
      "__________________________________________________________________________________________________\n",
      "user_encoder\n",
      "Model: \"model_14\"\n",
      "__________________________________________________________________________________________________\n",
      " Layer (type)                Output Shape                 Param #   Connected to                  \n",
      "==================================================================================================\n",
      " input_14 (InputLayer)       [(None, 30, 87)]             0         []                            \n",
      "                                                                                                  \n",
      " time_distributed_1 (TimeDi  (None, 30, 400)              4365399   ['input_14[0][0]']            \n",
      " stributed)                                               1                                       \n",
      "                                                                                                  \n",
      " model_8 (Functional)        (None, 370)                  708771    ['time_distributed_1[0][0]']  \n",
      "                                                                                                  \n",
      " model_12 (Functional)       (None, 30)                   1769519   ['input_14[0][0]']            \n",
      "                                                          2                                       \n",
      "                                                                                                  \n",
      " concatenate_3 (Concatenate  (None, 400)                  0         ['model_8[0][0]',             \n",
      " )                                                                   'model_12[0][0]']            \n",
      "                                                                                                  \n",
      "==================================================================================================\n",
      "Total params: 62057954 (236.73 MB)\n",
      "Trainable params: 62057954 (236.73 MB)\n",
      "Non-trainable params: 0 (0.00 Byte)\n",
      "__________________________________________________________________________________________________\n"
     ]
    },
    {
     "name": "stderr",
     "output_type": "stream",
     "text": [
      "/Users/lantrungseo/Documents/app-dev/lantrungseo/FUM-code/_venv_/lib/python3.11/site-packages/keras/src/optimizers/legacy/adam.py:118: UserWarning: The `lr` argument is deprecated, use `learning_rate` instead.\n",
      "  super().__init__(name, **kwargs)\n"
     ]
    }
   ],
   "source": [
    "K.clear_session()\n",
    "\n",
    "model,news_encoder,user_encoder, = create_model(title_word_embedding_matrix,content_word_embedding_matrix,entity_dict,category_dict,subcategory_dict)\n",
    "\n",
    "print(\"model\")\n",
    "model.summary()\n",
    "print(\"news_encoder\")\n",
    "news_encoder.summary()\n",
    "print(\"user_encoder\")\n",
    "user_encoder.summary()"
   ]
  },
  {
   "cell_type": "code",
   "execution_count": 14,
   "metadata": {},
   "outputs": [
    {
     "name": "stderr",
     "output_type": "stream",
     "text": [
      "/var/folders/zt/vhmx6wk13170frffq8t0bh380000gp/T/ipykernel_56609/3712677032.py:3: UserWarning: `Model.fit_generator` is deprecated and will be removed in a future version. Please use `Model.fit`, which supports generators.\n",
      "  model.fit_generator(train_generator,epochs=2, verbose=True, validation_data=val_generator)\n"
     ]
    },
    {
     "name": "stdout",
     "output_type": "stream",
     "text": [
      "Epoch 1/2\n"
     ]
    },
    {
     "name": "stderr",
     "output_type": "stream",
     "text": [
      "2023-12-27 23:54:43.534360: I tensorflow/core/grappler/optimizers/custom_graph_optimizer_registry.cc:117] Plugin optimizer for device_type GPU is enabled.\n"
     ]
    },
    {
     "name": "stdout",
     "output_type": "stream",
     "text": [
      "   8/3693 [..............................] - ETA: 6:05:00 - loss: 1.6031 - acc: 0.2480"
     ]
    }
   ],
   "source": [
    "# early_stopping = keras.callbacks.EarlyStopping(monitor='val_accuracy', baseline=0.8, mode='max', patience=2, restore_best_weights=True)\n",
    "\n",
    "model.fit_generator(train_generator,epochs=2, verbose=True, validation_data=val_generator)\n",
    "model_path = os.path.join(project_path, '_models_')\n",
    "model.save(model_path)"
   ]
  },
  {
   "cell_type": "code",
   "execution_count": null,
   "metadata": {},
   "outputs": [],
   "source": []
  },
  {
   "cell_type": "code",
   "execution_count": null,
   "metadata": {},
   "outputs": [],
   "source": [
    "test_session = read_test_clickhistory_noclk(news_index,data_root_path,'MINDlarge_test/behaviors.tsv')\n",
    "print(test_session[0:1])\n",
    "# same as train_session, but no not-clicks\n",
    "test_user = parse_user(news_index,test_session)\n",
    "# same as train_user\n",
    "test_impressions, test_userids = get_test_input(news_index,test_session)\n",
    "#print(test_impressions[0:2])\n",
    "#print(test_userids[0:2])\n",
    "# test_userids = (sessionIndex)\n",
    "# test_impressions = [{ docs: [list_of_clicked_docs], labels: [1] * len(list_of_clicked_docs) }]"
   ]
  },
  {
   "cell_type": "code",
   "execution_count": null,
   "metadata": {},
   "outputs": [],
   "source": [
    "news_scoring = news_encoder.predict_generator(news_generator,verbose=1)\n",
    "test_user_generator = get_hir_user_generator(news_fetcher,test_user['click'],32)\n",
    "test_user_scoring = user_encoder.predict_generator(test_user_generator,verbose=1)\n",
    "dump_result(test_impressions,news_scoring,test_user_scoring)"
   ]
  },
  {
   "cell_type": "code",
   "execution_count": null,
   "metadata": {},
   "outputs": [],
   "source": []
  },
  {
   "cell_type": "code",
   "execution_count": null,
   "metadata": {},
   "outputs": [],
   "source": []
  }
 ],
 "metadata": {
  "kernelspec": {
   "display_name": "Python 3",
   "language": "python",
   "name": "python3"
  },
  "language_info": {
   "codemirror_mode": {
    "name": "ipython",
    "version": 3
   },
   "file_extension": ".py",
   "mimetype": "text/x-python",
   "name": "python",
   "nbconvert_exporter": "python",
   "pygments_lexer": "ipython3",
   "version": "3.11.6"
  }
 },
 "nbformat": 4,
 "nbformat_minor": 4
}
